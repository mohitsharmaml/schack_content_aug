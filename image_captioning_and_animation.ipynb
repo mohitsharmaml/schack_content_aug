{
 "cells": [
  {
   "cell_type": "code",
   "execution_count": 1,
   "id": "7165e7ca",
   "metadata": {},
   "outputs": [],
   "source": [
    "# !brew install libjpeg libtiff little-cms2 openjpeg webp\n",
    "\n",
    "# !brew install freetype harfbuzz fribidi\n",
    "\n",
    "# !brew install libraqm-dev\n",
    "\n",
    "# #!brew install libraqm\n",
    "# !brew install libraqm0\n",
    "#pip install pillow, numpy,textwrap\n",
    "\n",
    "from PIL import Image, ImageDraw, ImageFont\n",
    "import numpy as np\n",
    "import textwrap"
   ]
  },
  {
   "cell_type": "code",
   "execution_count": 60,
   "id": "3941e27c",
   "metadata": {},
   "outputs": [],
   "source": [
    "font_base_path = \"/Users/mohit.sharma/Downloads/\"\n",
    "noto_hindi = ImageFont.truetype(font_base_path+\"Noto_Sans/NotoSans-ExtraBold.ttf\",25)\n",
    "teko_hindi = ImageFont.truetype(font_base_path+\"Teko/Teko-Bold.ttf\",25)\n",
    "gargi = ImageFont.truetype(font_base_path+'gargi.ttf', 25)\n",
    "akshar = ImageFont.truetype(font_base_path+'AksharUnicode.ttf', 25)\n",
    "marhey = ImageFont.truetype(font_base_path+'Marhey/Marhey-VariableFont_wght.ttf', 25)"
   ]
  },
  {
   "cell_type": "code",
   "execution_count": 61,
   "id": "e524090e",
   "metadata": {},
   "outputs": [],
   "source": [
    "hindi_fonts = [noto_hindi,teko_hindi,gargi,akshar]"
   ]
  },
  {
   "cell_type": "code",
   "execution_count": 62,
   "id": "e5862d77",
   "metadata": {},
   "outputs": [],
   "source": [
    "def draw_multiple_line_text(image_path, text, font, text_color, text_start_height):\n",
    "    \"\"\"\n",
    "    image_path: image path on disk\n",
    "    text: text to write on image\n",
    "    font: font family to use\n",
    "    text_color: \n",
    "    text_start_height: \n",
    "    \"\"\"\n",
    "    \n",
    "    '''\n",
    "     [python PIL draw multiline text on image](https://stackoverflow.com/a/7698300/395857)\n",
    "    '''\n",
    "    image = Image.open(image_path)\n",
    "    draw = ImageDraw.Draw(image)\n",
    "    image_width, image_height = image.size\n",
    "    y_text = text_start_height\n",
    "    lines = textwrap.wrap(text, width=25)\n",
    "    for line in lines:\n",
    "        line_width, line_height = font.getsize(line)\n",
    "        draw.text(((image_width - line_width) / 2, y_text), \n",
    "                  line, font=font, \n",
    "                  #fill=text_color)\n",
    "                  fill=text_color,stroke_width=1,align='center')\n",
    "        y_text += line_height\n",
    "    return image"
   ]
  },
  {
   "cell_type": "code",
   "execution_count": 4,
   "id": "4c915bad",
   "metadata": {},
   "outputs": [],
   "source": [
    "def get_ideal_colour(img_path):\n",
    "    \"\"\"get average pixel value of an image across R,G,B and take the complement of that colour\"\"\"\n",
    "    iopen = Image.open(img_path)\n",
    "    im_arr = np.asarray(iopen)\n",
    "    basecolors = np.average(im_arr[:,:,0]),np.average(im_arr[:,:,1]),np.average(im_arr[:,:,2])\n",
    "    return (255-int(basecolors[0]),255-int(basecolors[1]),255-int(basecolors[2]))"
   ]
  },
  {
   "cell_type": "code",
   "execution_count": 33,
   "id": "c247c7a9",
   "metadata": {},
   "outputs": [],
   "source": [
    "def dir_to_gif(dir_path,gif_path,size=400,duration_of_each_image_secs=1,loop=5):\n",
    "    \"\"\"bundle all images in a directory into a GIF\n",
    "     dir_path: directory path for images\n",
    "     gif_path: gif save path\n",
    "     size: target size for image before creating GIF\n",
    "     duration_of_each_image_secs: duration that image will be shown\n",
    "     loop: number of times the collection of images will be looped\n",
    "    \"\"\"\n",
    "\n",
    "    imgs = (Image.open(dir_path+\"/\"+f).resize((size,size))   for f in os.listdir(dir_path) )\n",
    "    img = next(imgs)  # extract first image from iterator\n",
    "    img.save(fp=gif_path, format='GIF', append_images=imgs,\n",
    "             save_all=True, duration=duration_of_each_image_secs*1000, loop=loop)\n",
    "    \n",
    "    \n",
    "def imgs_to_gif(img_arr_list,gif_path,size=400,duration_of_each_image_secs=1,loop=5):\n",
    "    \"\"\"bundle an arr of images(array) into a gif\n",
    "     dir_path: directory path for images\n",
    "     gif_path: gif save path\n",
    "     size: target size for image before creating GIF\n",
    "     duration_of_each_image_secs: duration that image will be shown\n",
    "     loop: number of times the collection of images will be looped\n",
    "    \"\"\"\n",
    "\n",
    "    imgs = (Image.fromarray(i).resize((size,size)) for i in img_arr_list)\n",
    "    img = next(imgs)  # extract first image from iterator\n",
    "    img.save(fp=gif_path, format='GIF', append_images=imgs,\n",
    "             save_all=True, duration=duration_of_each_image_secs*1000, loop=loop)\n",
    "    \n",
    "def img_to_sliding_arr(img_path,sliding=\"horizontal\"):\n",
    "    img= Image.open(img_path)\n",
    "    height, width = img.size\n",
    "\n",
    "    i = 0\n",
    "    img = np.array(img)\n",
    "    img_arr = []\n",
    "    while True:\n",
    "        i += 50\n",
    "\n",
    "        # divided the image into left and right part\n",
    "        # like list concatenation we concatenated\n",
    "        if sliding == \"horizontal\":\n",
    "            # right and left together\n",
    "            l = img[:, :(i % width)]\n",
    "            r = img[:, (i % width):]\n",
    "\n",
    "            img1 = np.hstack((r, l))\n",
    "        else:\n",
    "            t = img[:(i % height), :]\n",
    "            b = img[(i % height):, :]\n",
    "            img1 = np.vstack((b,t))\n",
    "        img_arr.append(img1)\n",
    "        if i%500==0:\n",
    "            break\n",
    "    return img_arr"
   ]
  },
  {
   "cell_type": "code",
   "execution_count": 10,
   "id": "97291003",
   "metadata": {},
   "outputs": [],
   "source": [
    "#single image to gif creation\n",
    "img_arr_h = img_to_sliding_arr(image_path,\"horizontal\")\n",
    "imgs_to_gif(img_arr_h,\"horizontal.gif\",400,0.2,2)"
   ]
  },
  {
   "cell_type": "code",
   "execution_count": 13,
   "id": "d57c19b1",
   "metadata": {},
   "outputs": [
    {
     "name": "stderr",
     "output_type": "stream",
     "text": [
      "/var/folders/65/h__vggbx0v3dk4dzl3w0b1zc0000gn/T/ipykernel_14831/931124952.py:19: DeprecationWarning: getsize is deprecated and will be removed in Pillow 10 (2023-07-01). Use getbbox or getlength instead.\n",
      "  line_width, line_height = font.getsize(line)\n"
     ]
    }
   ],
   "source": [
    "#\n",
    "x=draw_multiple_line_text(image_path=\"/Users/mohit.sharma/Downloads/demo_images/risingSun.png\", \n",
    "                        text=\"देखिए किस कदर मीठे\", \n",
    "                        font=akshar, \n",
    "                        text_color=get_ideal_colour(\"/Users/mohit.sharma/Downloads/demo_images/risingSun.png\"), \n",
    "                        text_start_height=0)\n",
    "\n",
    "#you can replace get_ideal_colour by another more suitable colour or try white or black(255,255,255) or (0,0,0)"
   ]
  },
  {
   "cell_type": "code",
   "execution_count": 7,
   "id": "0ec0d380",
   "metadata": {},
   "outputs": [],
   "source": [
    "import glob"
   ]
  },
  {
   "cell_type": "code",
   "execution_count": 8,
   "id": "9aa4aacf",
   "metadata": {},
   "outputs": [
    {
     "data": {
      "text/plain": [
       "['/Users/mohit.sharma/Downloads/demo_images/religious/krishna/']"
      ]
     },
     "execution_count": 8,
     "metadata": {},
     "output_type": "execute_result"
    }
   ],
   "source": [
    "glob.glob(\"/Users/mohit.sharma/Downloads/demo_images/religious/krishna/\")"
   ]
  },
  {
   "cell_type": "code",
   "execution_count": 38,
   "id": "00bcf0ac",
   "metadata": {
    "scrolled": true
   },
   "outputs": [],
   "source": [
    "krishna_gif = dir_to_gif(\"/Users/mohit.sharma/Downloads/demo_images/religious/krishna/\",\"krishna.gif\",400,1)"
   ]
  },
  {
   "cell_type": "code",
   "execution_count": 37,
   "id": "a38f73a5",
   "metadata": {},
   "outputs": [],
   "source": [
    "temples_gif = dir_to_gif(\"/Users/mohit.sharma/Downloads/demo_images/religious/temples/\",\"temples.gif\",400,1)"
   ]
  },
  {
   "cell_type": "code",
   "execution_count": 40,
   "id": "221db5d3",
   "metadata": {},
   "outputs": [],
   "source": [
    "krishna_quotes = [\"\"\"\"\"\",\n",
    "             \n",
    "                 \"\"\"जिसमें प्रेम हो वह हर रिश्ता एक बंधन है\n",
    "वरना यूं ही नहीं राधे के साथ\n",
    "देवकी नंदन है..!!\n",
    "                  \"\"\",\n",
    "                 \"\"\"श्री कृष्ण ने कहा है,\n",
    "अगर तुम्हें किसी ने दुखी किया है तो बुरा मत मानना,\n",
    "लोग उसी पेड़ पर पत्थर मारते है,\n",
    "जिस पेड़ पर ज्यादा मीठे फल होते है। \n",
    "                 \"\"\",\n",
    "                 \"\"\"मंज़िलें मुझे छोड़ गई,\n",
    "रास्तों ने संभाल लिया,\n",
    "जा जिंदगी तेरी जरूरत नहीं,\n",
    "कृष्ण ने मुझे संभाल लिया।\n",
    "                 \"\"\"]"
   ]
  },
  {
   "cell_type": "code",
   "execution_count": 52,
   "id": "88b3e4cb",
   "metadata": {},
   "outputs": [],
   "source": [
    "temple_quotes = [\"\"\"प्रभु से यह मत कहो कि समस्या विकट है,\n",
    "बल्कि समस्या से कह दो कि प्रभु मेरे निकट हैं.\"\"\",\n",
    "                 \"\"\"धर्म से भरा ह्रदय धर्म का परामर्श देता है\n",
    "और अधर्म से भरा ह्रदय\n",
    "अधर्म का परामर्श देता है..!! Good Night\"\"\",\n",
    "                 \"\"\"जब आप प्रभु से जुड़ जाओगे,\n",
    "तो आपकी परीक्षा प्रारंभ हो जाएगी,\n",
    "कुछ लोग इसे दुख समझते हैं.\n",
    "पर इसे आप प्रभु की कृपा सुने कि वह आपके साथ हैं।\n",
    "                 \"\"\",\n",
    "                 \"\"\"मनुष्य कितना भी गोरा क्यों ना हो\n",
    "परंतु उसकी परछाई सदैव काली होती है,\n",
    "“मैं श्रेष्ठ हूँ”  यह आत्मविश्वास है,\n",
    "लेकिन “सिर्फ मैं ही श्रेष्ठ हूँ”  यह अहंकार है”,\n",
    "                 \"\"\",\n",
    "                 \"\"\"जीवन में आधे दु:ख इस वजह से आते है,\n",
    "क्योंकि हमने उनसे आशाऐं रखी जिन से हमें नहीं रखनी चाहिए थी,\n",
    "और आधे दु:ख इस वजह से कि हमने उन लोगों पर संदेह किया,\n",
    "जिन पर नहीं करना चाहिए था।\n",
    "Good Night!!\n",
    "                 \"\"\",\n",
    "                 \"\"\"एक भगवान हीं होते हैं, जो हमारा साथ कभी नहीं छोड़ते हैं. बाकि लोग तो हमारे जीवन में आते जाते रहते हैं\n",
    "                 \"\"\",\n",
    "                 \"\"\"ईश्वर में आस्था हैं,\n",
    "तो उलझनों में भी रास्ता है.\n",
    "Be Positive!\n",
    "                 \"\"\",\n",
    "                 \"\"\"अच्छी किस्मत के लोग थोडा भी बुरा होने पर भगवान को कोसते है,\n",
    "और बुरी किस्मत के लोग थोडा भी अच्छा होने पर\n",
    "भगवान का स्मरण और धन्यवाद करते हैं।\"\"\"\n",
    "                ]"
   ]
  },
  {
   "cell_type": "code",
   "execution_count": 53,
   "id": "3a96894a",
   "metadata": {},
   "outputs": [],
   "source": [
    "import random"
   ]
  },
  {
   "cell_type": "code",
   "execution_count": 68,
   "id": "1b0cd93e",
   "metadata": {},
   "outputs": [
    {
     "name": "stderr",
     "output_type": "stream",
     "text": [
      "/var/folders/65/h__vggbx0v3dk4dzl3w0b1zc0000gn/T/ipykernel_20959/3086613669.py:19: DeprecationWarning: getsize is deprecated and will be removed in Pillow 10 (2023-07-01). Use getbbox or getlength instead.\n",
      "  line_width, line_height = font.getsize(line)\n"
     ]
    }
   ],
   "source": [
    "base_path = \"/Users/mohit.sharma/Downloads/demo_images/religious/temples/\"\n",
    "c=0\n",
    "for image in os.listdir(base_path):\n",
    "    img_name = image.split(\".\")[0]\n",
    "    \n",
    "    i_transfomed = draw_multiple_line_text(image_path=base_path+image, \n",
    "                        text=temple_quotes[c], \n",
    "                        font=random.choice([akshar,noto_hindi,gargi]), \n",
    "                        text_color=(250,250,250), \n",
    "                        text_start_height=10)\n",
    "    i_transfomed.save(\"/Users/mohit.sharma/Downloads/demo_images/religious/temple_upload/\"+img_name+\".png\")\n",
    "    c+=1\n",
    "    \n",
    "    "
   ]
  },
  {
   "cell_type": "code",
   "execution_count": 25,
   "id": "606df49b",
   "metadata": {},
   "outputs": [],
   "source": [
    "imgs = (Image.open(f).resize((size,size)) for f in sorted(os.listdir(\"/Users/mohit.sharma/Downloads/demo_images/religious\")) if ~i.endswith(\".DS_Store\"))"
   ]
  },
  {
   "cell_type": "code",
   "execution_count": 24,
   "id": "a221b8df",
   "metadata": {
    "collapsed": true
   },
   "outputs": [
    {
     "ename": "FileNotFoundError",
     "evalue": "[Errno 2] No such file or directory: '.DS_Store'",
     "output_type": "error",
     "traceback": [
      "\u001b[0;31m---------------------------------------------------------------------------\u001b[0m",
      "\u001b[0;31mFileNotFoundError\u001b[0m                         Traceback (most recent call last)",
      "Input \u001b[0;32mIn [24]\u001b[0m, in \u001b[0;36m<cell line: 1>\u001b[0;34m()\u001b[0m\n\u001b[0;32m----> 1\u001b[0m img \u001b[38;5;241m=\u001b[39m \u001b[38;5;28;43mnext\u001b[39;49m\u001b[43m(\u001b[49m\u001b[43mimgs\u001b[49m\u001b[43m)\u001b[49m\n",
      "Input \u001b[0;32mIn [23]\u001b[0m, in \u001b[0;36m<genexpr>\u001b[0;34m(.0)\u001b[0m\n\u001b[0;32m----> 1\u001b[0m imgs \u001b[38;5;241m=\u001b[39m (\u001b[43mImage\u001b[49m\u001b[38;5;241;43m.\u001b[39;49m\u001b[43mopen\u001b[49m\u001b[43m(\u001b[49m\u001b[43mf\u001b[49m\u001b[43m)\u001b[49m\u001b[38;5;241m.\u001b[39mresize((size,size)) \u001b[38;5;28;01mfor\u001b[39;00m f \u001b[38;5;129;01min\u001b[39;00m \u001b[38;5;28msorted\u001b[39m(os\u001b[38;5;241m.\u001b[39mlistdir(\u001b[38;5;124m\"\u001b[39m\u001b[38;5;124m/Users/mohit.sharma/Downloads/demo_images/religious\u001b[39m\u001b[38;5;124m\"\u001b[39m)))\n",
      "File \u001b[0;32m/opt/anaconda3/lib/python3.9/site-packages/PIL/Image.py:3131\u001b[0m, in \u001b[0;36mopen\u001b[0;34m(fp, mode, formats)\u001b[0m\n\u001b[1;32m   3128\u001b[0m     filename \u001b[38;5;241m=\u001b[39m fp\n\u001b[1;32m   3130\u001b[0m \u001b[38;5;28;01mif\u001b[39;00m filename:\n\u001b[0;32m-> 3131\u001b[0m     fp \u001b[38;5;241m=\u001b[39m \u001b[43mbuiltins\u001b[49m\u001b[38;5;241;43m.\u001b[39;49m\u001b[43mopen\u001b[49m\u001b[43m(\u001b[49m\u001b[43mfilename\u001b[49m\u001b[43m,\u001b[49m\u001b[43m \u001b[49m\u001b[38;5;124;43m\"\u001b[39;49m\u001b[38;5;124;43mrb\u001b[39;49m\u001b[38;5;124;43m\"\u001b[39;49m\u001b[43m)\u001b[49m\n\u001b[1;32m   3132\u001b[0m     exclusive_fp \u001b[38;5;241m=\u001b[39m \u001b[38;5;28;01mTrue\u001b[39;00m\n\u001b[1;32m   3134\u001b[0m \u001b[38;5;28;01mtry\u001b[39;00m:\n",
      "\u001b[0;31mFileNotFoundError\u001b[0m: [Errno 2] No such file or directory: '.DS_Store'"
     ]
    }
   ],
   "source": [
    "img = next(imgs)"
   ]
  },
  {
   "cell_type": "code",
   "execution_count": 18,
   "id": "289efdd2",
   "metadata": {},
   "outputs": [
    {
     "data": {
      "text/plain": [
       "[['/Users/mohit.sharma/Downloads/demo_images/religious/']]"
      ]
     },
     "execution_count": 18,
     "metadata": {},
     "output_type": "execute_result"
    }
   ],
   "source": [
    "[glob.glob(\"/Users/mohit.sharma/Downloads/demo_images/religious/\")]"
   ]
  },
  {
   "cell_type": "code",
   "execution_count": 19,
   "id": "247f8fe7",
   "metadata": {},
   "outputs": [],
   "source": [
    "import os"
   ]
  },
  {
   "cell_type": "code",
   "execution_count": 32,
   "id": "a3cd0776",
   "metadata": {},
   "outputs": [],
   "source": [
    "!find . -name \".DS_Store\" -print -delete"
   ]
  },
  {
   "cell_type": "code",
   "execution_count": null,
   "id": "8bc847b2",
   "metadata": {},
   "outputs": [],
   "source": []
  }
 ],
 "metadata": {
  "kernelspec": {
   "display_name": "Python 3 (ipykernel)",
   "language": "python",
   "name": "python3"
  },
  "language_info": {
   "codemirror_mode": {
    "name": "ipython",
    "version": 3
   },
   "file_extension": ".py",
   "mimetype": "text/x-python",
   "name": "python",
   "nbconvert_exporter": "python",
   "pygments_lexer": "ipython3",
   "version": "3.9.12"
  }
 },
 "nbformat": 4,
 "nbformat_minor": 5
}
